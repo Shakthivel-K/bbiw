{
 "cells": [
  {
   "attachments": {},
   "cell_type": "markdown",
   "metadata": {},
   "source": [
    "## Big Brother Is Watching You: A Closer look at Backdoor construction"
   ]
  },
  {
   "attachments": {},
   "cell_type": "markdown",
   "metadata": {},
   "source": [
    "include the library pycryptodome\n"
   ]
  },
  {
   "cell_type": "code",
   "execution_count": 8,
   "metadata": {},
   "outputs": [],
   "source": [
    "from Crypto.Cipher import AES\n",
    "from Crypto.Hash import SHAKE128"
   ]
  },
  {
   "attachments": {},
   "cell_type": "markdown",
   "metadata": {},
   "source": [
    "fix n value, State size, Number of Feistel branches"
   ]
  },
  {
   "attachments": {},
   "cell_type": "markdown",
   "metadata": {},
   "source": [
    "lines: INPUT, 1"
   ]
  },
  {
   "cell_type": "code",
   "execution_count": 9,
   "metadata": {},
   "outputs": [],
   "source": [
    "n = 4 # Number of Feistel rounds\n",
    "size = 128 # State size\n",
    "branch = 2 # Number of Feistel branches\n",
    "key=input(\"Enter key\")\n",
    "if key==\"def\":\n",
    "    key=0x3cf28000471a74d22d81b6c98a3dbe33\n",
    "else :\n",
    "    key=hex(key)\n",
    "backdoor=input(\"Enter backdoor\")\n",
    "if backdoor==\"def\":\n",
    "    backdoor=0x1831bcaa5bee08e639864e4823183090\n",
    "else :\n",
    "    backdoor=hex(backdoor)\n",
    "plaintext=(int(input(\"Enter plaintext\"),base=16))"
   ]
  },
  {
   "attachments": {},
   "cell_type": "markdown",
   "metadata": {},
   "source": [
    "some essential functions"
   ]
  },
  {
   "cell_type": "code",
   "execution_count": 10,
   "metadata": {},
   "outputs": [],
   "source": [
    "## convert to bytes \n",
    "def conv_bytes(x):\n",
    "    return int.to_bytes(x, byteorder=\"little\", signed=False, length=size//8)\n",
    "## convert to int \n",
    "def conv_int(x):\n",
    "    return int.from_bytes(x, byteorder=\"little\", signed=False)\n",
    "\n",
    "##fns\n",
    "def pad_zero(z, l_nibble):\n",
    "    return (hex(z)[2:]).zfill(l_nibble)\n",
    "\n",
    "def gen_fe_round_key(k, n):\n",
    "    K = []\n",
    "    for i in range(0, n):\n",
    "        K.append(conv_int(get_enc(Ky=key, msg=conv_bytes(i))))\n",
    "    \n",
    "    return K\n",
    "\n",
    "def truncate(data):\n",
    "    data_hex = pad_zero(data, l_nibble=size//4) \n",
    "    return int('0x'+data_hex[0:size//(branch*4)], 16), int('0x'+data_hex[size//(branch*4):], 16)\n",
    "\n",
    "def get_hash(msg): \n",
    "    H = SHAKE128.new()\n",
    "    H.update(data=conv_bytes(msg))\n",
    "    return conv_int(H.read(size//8)) # Hash output is fixed at `size` bits\n",
    "\n",
    "def get_enc(msg, Ky):\n",
    "    E = AES.new(Ky, AES.MODE_ECB)\n",
    "    return E.encrypt(msg)"
   ]
  },
  {
   "cell_type": "code",
   "execution_count": 11,
   "metadata": {},
   "outputs": [
    {
     "name": "stdout",
     "output_type": "stream",
     "text": [
      "Key:\t\t 3cf28000471a74d22d81b6c98a3dbe33\n",
      "Backdoor Entry:\t 1831bcaa5bee08e639864e4823183090\n",
      "Plaintext:\t 9eac455e039a58928e163658e1493a20\n",
      "Ciphertext:\t 7a7700e9f5f4f974e9ba2834160cf284\n"
     ]
    }
   ],
   "source": [
    "plaintext = conv_bytes(plaintext) \n",
    "key = conv_bytes(key) \n",
    "backdoor = conv_bytes(backdoor) \n",
    "\n",
    "\n",
    "# Get Feistel round keys\n",
    "F_round_keys = gen_fe_round_key(k=key, n=n)\n",
    "\n",
    "# Get post-whitening keys\n",
    "KL, KR = truncate(data=conv_int(key))\n",
    "p0, p1 = truncate(data=conv_int(backdoor))\n",
    "\n",
    "Hp = get_hash(msg=p0), get_hash(msg=p1)\n",
    "\n",
    "C0, C1 = truncate(data=conv_int(plaintext))\n",
    "\n",
    "# Feistel round operation\n",
    "for i in range(n):\n",
    "    j = i % 2\n",
    "\n",
    "    alpha = truncate(conv_int(get_enc(Ky=conv_bytes(F_round_keys[i]), msg=conv_bytes(Hp[j]))))[0]\n",
    "    \n",
    "    beta = truncate(conv_int(get_enc(Ky=conv_bytes(F_round_keys[i]), msg=conv_bytes(get_hash(C0)))))[0]\n",
    "\n",
    "    f = alpha ^ beta # Feistel round function\n",
    "\n",
    "    C1 = f ^ C1 # Update right branch\n",
    "\n",
    "    if i < n-1: # Do not swap branches in last round\n",
    "        C0, C1 = C1, C0 # Swap branches\n",
    "    \n",
    "# Post-whiten\n",
    "C0, C1 = C0 ^ KL, C1 ^ KR\n",
    "\n",
    "\n",
    "# Display output\n",
    "plaintext = pad_zero(conv_int(plaintext), l_nibble=size//4) # Hexadecimal string\n",
    "key = pad_zero(conv_int(key), l_nibble=size//4) # Hexadecimal string\n",
    "backdoor = pad_zero(conv_int(backdoor), l_nibble=size//4) # Hexadecimal string\n",
    "ciphertext = pad_zero(C0, l_nibble=size//(branch*4)) + pad_zero(C1, l_nibble=size//(branch*4)) # Hexadecimal string\n",
    "\n",
    "print ('Key:\\t\\t', key)\n",
    "print ('Backdoor Entry:\\t', backdoor)\n",
    "print ('Plaintext:\\t', plaintext)\n",
    "print ('Ciphertext:\\t', ciphertext)\n",
    "\n",
    "if backdoor == plaintext:\n",
    "    if n % 2 == 0: # Even round\n",
    "        l, r = p1, p0\n",
    "    else: # Odd round\n",
    "        l, r = p0, p1\n",
    "    \n",
    "    K_recovered = pad_zero(z = C0 ^ l, l_nibble=size//(branch*4)) + pad_zero(z = C1 ^ r, l_nibble=size//(branch*4)) # Hexadecimal string\n",
    "    \n",
    "    if  K_recovered == key:\n",
    "        print('\\033[31mRecovered Key:\\t', (K_recovered), end='\\033[0m\\n')\n",
    "    else:\n",
    "        assert False"
   ]
  }
 ],
 "metadata": {
  "kernelspec": {
   "display_name": "Python 3",
   "language": "python",
   "name": "python3"
  },
  "language_info": {
   "codemirror_mode": {
    "name": "ipython",
    "version": 3
   },
   "file_extension": ".py",
   "mimetype": "text/x-python",
   "name": "python",
   "nbconvert_exporter": "python",
   "pygments_lexer": "ipython3",
   "version": "3.11.3"
  },
  "orig_nbformat": 4
 },
 "nbformat": 4,
 "nbformat_minor": 2
}
